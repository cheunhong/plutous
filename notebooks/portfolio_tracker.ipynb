{
 "cells": [
  {
   "cell_type": "markdown",
   "id": "18ad258b-68d3-47d9-b49d-c6566b629881",
   "metadata": {},
   "source": [
    "# Portfolio Tracker"
   ]
  },
  {
   "cell_type": "code",
   "execution_count": 1,
   "id": "c5a18039-91ee-4bf1-b43f-ce02591171c2",
   "metadata": {},
   "outputs": [
    {
     "ename": "ModuleNotFoundError",
     "evalue": "No module named 'inflect'",
     "output_type": "error",
     "traceback": [
      "\u001b[0;31m---------------------------------------------------------------------------\u001b[0m",
      "\u001b[0;31mModuleNotFoundError\u001b[0m                       Traceback (most recent call last)",
      "\u001b[0;32m/tmp/ipykernel_17/3339860961.py\u001b[0m in \u001b[0;36m<module>\u001b[0;34m\u001b[0m\n\u001b[0;32m----> 1\u001b[0;31m \u001b[0;32mfrom\u001b[0m \u001b[0mportfi\u001b[0m\u001b[0;34m.\u001b[0m\u001b[0mtrackers\u001b[0m \u001b[0;32mimport\u001b[0m \u001b[0mBinanceTracker\u001b[0m\u001b[0;34m,\u001b[0m \u001b[0mBaseTracker\u001b[0m\u001b[0;34m\u001b[0m\u001b[0;34m\u001b[0m\u001b[0m\n\u001b[0m\u001b[1;32m      2\u001b[0m \u001b[0;32mfrom\u001b[0m \u001b[0mportfi\u001b[0m \u001b[0;32mimport\u001b[0m \u001b[0mdatabase\u001b[0m \u001b[0;32mas\u001b[0m \u001b[0mdb\u001b[0m\u001b[0;34m\u001b[0m\u001b[0;34m\u001b[0m\u001b[0m\n\u001b[1;32m      3\u001b[0m \u001b[0;32mfrom\u001b[0m \u001b[0mportfi\u001b[0m\u001b[0;34m.\u001b[0m\u001b[0mmodels\u001b[0m\u001b[0;34m.\u001b[0m\u001b[0menums\u001b[0m \u001b[0;32mimport\u001b[0m \u001b[0;34m*\u001b[0m\u001b[0;34m\u001b[0m\u001b[0;34m\u001b[0m\u001b[0m\n\u001b[1;32m      4\u001b[0m \u001b[0;32mfrom\u001b[0m \u001b[0mportfi\u001b[0m\u001b[0;34m.\u001b[0m\u001b[0mmodels\u001b[0m \u001b[0;32mimport\u001b[0m \u001b[0;34m*\u001b[0m\u001b[0;34m\u001b[0m\u001b[0;34m\u001b[0m\u001b[0m\n\u001b[1;32m      5\u001b[0m \u001b[0;32mfrom\u001b[0m \u001b[0mportfi\u001b[0m \u001b[0;32mimport\u001b[0m \u001b[0mconfig\u001b[0m\u001b[0;34m\u001b[0m\u001b[0;34m\u001b[0m\u001b[0m\n",
      "\u001b[0;32m~/finance-tracker/portfi/trackers/__init__.py\u001b[0m in \u001b[0;36m<module>\u001b[0;34m\u001b[0m\n\u001b[0;32m----> 1\u001b[0;31m \u001b[0;32mfrom\u001b[0m \u001b[0;34m.\u001b[0m\u001b[0mbinance\u001b[0m \u001b[0;32mimport\u001b[0m \u001b[0mBinanceTracker\u001b[0m\u001b[0;34m\u001b[0m\u001b[0;34m\u001b[0m\u001b[0m\n\u001b[0m\u001b[1;32m      2\u001b[0m \u001b[0;32mfrom\u001b[0m \u001b[0;34m.\u001b[0m\u001b[0mbase\u001b[0m \u001b[0;32mimport\u001b[0m \u001b[0mBaseTracker\u001b[0m\u001b[0;34m\u001b[0m\u001b[0;34m\u001b[0m\u001b[0m\n",
      "\u001b[0;32m~/finance-tracker/portfi/trackers/binance.py\u001b[0m in \u001b[0;36m<module>\u001b[0;34m\u001b[0m\n\u001b[1;32m      3\u001b[0m     \u001b[0mBinance\u001b[0m\u001b[0;34m,\u001b[0m \u001b[0mExchgArg\u001b[0m\u001b[0;34m,\u001b[0m \u001b[0mFuturesExchgArg\u001b[0m\u001b[0;34m\u001b[0m\u001b[0;34m\u001b[0m\u001b[0m\n\u001b[1;32m      4\u001b[0m )\n\u001b[0;32m----> 5\u001b[0;31m \u001b[0;32mfrom\u001b[0m \u001b[0mportfi\u001b[0m\u001b[0;34m.\u001b[0m\u001b[0mmodels\u001b[0m\u001b[0;34m.\u001b[0m\u001b[0menums\u001b[0m \u001b[0;32mimport\u001b[0m \u001b[0mAction\u001b[0m\u001b[0;34m,\u001b[0m \u001b[0mAssetType\u001b[0m\u001b[0;34m\u001b[0m\u001b[0;34m\u001b[0m\u001b[0m\n\u001b[0m\u001b[1;32m      6\u001b[0m \u001b[0;32mfrom\u001b[0m \u001b[0mportfi\u001b[0m\u001b[0;34m.\u001b[0m\u001b[0mmodels\u001b[0m \u001b[0;32mimport\u001b[0m \u001b[0mTrade\u001b[0m\u001b[0;34m,\u001b[0m \u001b[0mFundingFee\u001b[0m\u001b[0;34m\u001b[0m\u001b[0;34m\u001b[0m\u001b[0m\n\u001b[1;32m      7\u001b[0m \u001b[0;32mfrom\u001b[0m \u001b[0mportfi\u001b[0m \u001b[0;32mimport\u001b[0m \u001b[0mconfig\u001b[0m\u001b[0;34m,\u001b[0m \u001b[0mdatabase\u001b[0m \u001b[0;32mas\u001b[0m \u001b[0mdb\u001b[0m\u001b[0;34m\u001b[0m\u001b[0;34m\u001b[0m\u001b[0m\n",
      "\u001b[0;32m~/finance-tracker/portfi/models/__init__.py\u001b[0m in \u001b[0;36m<module>\u001b[0;34m\u001b[0m\n\u001b[0;32m----> 1\u001b[0;31m \u001b[0;32mfrom\u001b[0m \u001b[0;34m.\u001b[0m\u001b[0mcurrency_exchange\u001b[0m \u001b[0;32mimport\u001b[0m \u001b[0mCurrencyExchange\u001b[0m\u001b[0;34m\u001b[0m\u001b[0;34m\u001b[0m\u001b[0m\n\u001b[0m\u001b[1;32m      2\u001b[0m \u001b[0;32mfrom\u001b[0m \u001b[0;34m.\u001b[0m\u001b[0msub_position_link\u001b[0m \u001b[0;32mimport\u001b[0m \u001b[0mSubPositionLink\u001b[0m\u001b[0;34m\u001b[0m\u001b[0;34m\u001b[0m\u001b[0m\n\u001b[1;32m      3\u001b[0m \u001b[0;32mfrom\u001b[0m \u001b[0;34m.\u001b[0m\u001b[0mposition_flow\u001b[0m \u001b[0;32mimport\u001b[0m \u001b[0mPositionFlow\u001b[0m\u001b[0;34m\u001b[0m\u001b[0;34m\u001b[0m\u001b[0m\n\u001b[1;32m      4\u001b[0m \u001b[0;32mfrom\u001b[0m \u001b[0;34m.\u001b[0m\u001b[0mrealized_pnl\u001b[0m \u001b[0;32mimport\u001b[0m \u001b[0mRealizedPnl\u001b[0m\u001b[0;34m\u001b[0m\u001b[0;34m\u001b[0m\u001b[0m\n\u001b[1;32m      5\u001b[0m \u001b[0;32mfrom\u001b[0m \u001b[0;34m.\u001b[0m\u001b[0msub_position\u001b[0m \u001b[0;32mimport\u001b[0m \u001b[0mSubPosition\u001b[0m\u001b[0;34m\u001b[0m\u001b[0;34m\u001b[0m\u001b[0m\n",
      "\u001b[0;32m~/finance-tracker/portfi/models/currency_exchange.py\u001b[0m in \u001b[0;36m<module>\u001b[0;34m\u001b[0m\n\u001b[1;32m      7\u001b[0m \u001b[0;32mfrom\u001b[0m \u001b[0mtyping\u001b[0m \u001b[0;32mimport\u001b[0m \u001b[0mTYPE_CHECKING\u001b[0m\u001b[0;34m,\u001b[0m \u001b[0mOptional\u001b[0m\u001b[0;34m\u001b[0m\u001b[0;34m\u001b[0m\u001b[0m\n\u001b[1;32m      8\u001b[0m \u001b[0;32mfrom\u001b[0m \u001b[0mdatetime\u001b[0m \u001b[0;32mimport\u001b[0m \u001b[0mdatetime\u001b[0m\u001b[0;34m\u001b[0m\u001b[0;34m\u001b[0m\u001b[0m\n\u001b[0;32m----> 9\u001b[0;31m from .transaction import (\n\u001b[0m\u001b[1;32m     10\u001b[0m     \u001b[0mTransaction\u001b[0m\u001b[0;34m,\u001b[0m \u001b[0mTransactable\u001b[0m\u001b[0;34m,\u001b[0m \u001b[0mDoubleEntry\u001b[0m\u001b[0;34m,\u001b[0m\u001b[0;34m\u001b[0m\u001b[0;34m\u001b[0m\u001b[0m\n\u001b[1;32m     11\u001b[0m )\n",
      "\u001b[0;32m~/finance-tracker/portfi/models/transaction.py\u001b[0m in \u001b[0;36m<module>\u001b[0;34m\u001b[0m\n\u001b[1;32m     11\u001b[0m \u001b[0;32mfrom\u001b[0m \u001b[0mdatetime\u001b[0m \u001b[0;32mimport\u001b[0m \u001b[0mdatetime\u001b[0m\u001b[0;34m\u001b[0m\u001b[0;34m\u001b[0m\u001b[0m\n\u001b[1;32m     12\u001b[0m \u001b[0;32mfrom\u001b[0m \u001b[0;34m.\u001b[0m\u001b[0menums\u001b[0m \u001b[0;32mimport\u001b[0m \u001b[0mPositionFlowType\u001b[0m\u001b[0;34m,\u001b[0m \u001b[0mAction\u001b[0m\u001b[0;34m\u001b[0m\u001b[0;34m\u001b[0m\u001b[0m\n\u001b[0;32m---> 13\u001b[0;31m \u001b[0;32mfrom\u001b[0m \u001b[0;34m.\u001b[0m\u001b[0mposition_flow\u001b[0m \u001b[0;32mimport\u001b[0m \u001b[0mPositionFlow\u001b[0m\u001b[0;34m\u001b[0m\u001b[0;34m\u001b[0m\u001b[0m\n\u001b[0m\u001b[1;32m     14\u001b[0m \u001b[0;32mfrom\u001b[0m \u001b[0;34m.\u001b[0m\u001b[0mposition\u001b[0m \u001b[0;32mimport\u001b[0m \u001b[0mPosition\u001b[0m\u001b[0;34m\u001b[0m\u001b[0;34m\u001b[0m\u001b[0m\n\u001b[1;32m     15\u001b[0m \u001b[0;32mfrom\u001b[0m \u001b[0;34m.\u001b[0m\u001b[0mbase\u001b[0m \u001b[0;32mimport\u001b[0m \u001b[0mBaseModel\u001b[0m\u001b[0;34m\u001b[0m\u001b[0;34m\u001b[0m\u001b[0m\n",
      "\u001b[0;32m~/finance-tracker/portfi/models/position_flow.py\u001b[0m in \u001b[0;36m<module>\u001b[0;34m\u001b[0m\n\u001b[1;32m      8\u001b[0m \u001b[0;32mfrom\u001b[0m \u001b[0;34m.\u001b[0m\u001b[0msub_position_link\u001b[0m \u001b[0;32mimport\u001b[0m \u001b[0mSubPositionLink\u001b[0m\u001b[0;34m\u001b[0m\u001b[0;34m\u001b[0m\u001b[0m\n\u001b[1;32m      9\u001b[0m \u001b[0;32mfrom\u001b[0m \u001b[0;34m.\u001b[0m\u001b[0menums\u001b[0m \u001b[0;32mimport\u001b[0m \u001b[0mPositionFlowType\u001b[0m\u001b[0;34m,\u001b[0m \u001b[0mAssetType\u001b[0m\u001b[0;34m\u001b[0m\u001b[0;34m\u001b[0m\u001b[0m\n\u001b[0;32m---> 10\u001b[0;31m \u001b[0;32mfrom\u001b[0m \u001b[0;34m.\u001b[0m\u001b[0mbase\u001b[0m \u001b[0;32mimport\u001b[0m \u001b[0mBaseModel\u001b[0m\u001b[0;34m\u001b[0m\u001b[0;34m\u001b[0m\u001b[0m\n\u001b[0m\u001b[1;32m     11\u001b[0m \u001b[0;32mfrom\u001b[0m \u001b[0;34m.\u001b[0m\u001b[0mtypes\u001b[0m \u001b[0;32mimport\u001b[0m \u001b[0mAmount\u001b[0m\u001b[0;34m\u001b[0m\u001b[0;34m\u001b[0m\u001b[0m\n\u001b[1;32m     12\u001b[0m \u001b[0;32mimport\u001b[0m \u001b[0mnumpy\u001b[0m \u001b[0;32mas\u001b[0m \u001b[0mnp\u001b[0m\u001b[0;34m\u001b[0m\u001b[0;34m\u001b[0m\u001b[0m\n",
      "\u001b[0;32m~/finance-tracker/portfi/models/base.py\u001b[0m in \u001b[0;36m<module>\u001b[0;34m\u001b[0m\n\u001b[1;32m      6\u001b[0m \u001b[0;32mfrom\u001b[0m \u001b[0msqlalchemy\u001b[0m \u001b[0;32mimport\u001b[0m \u001b[0minspect\u001b[0m\u001b[0;34m\u001b[0m\u001b[0;34m\u001b[0m\u001b[0m\n\u001b[1;32m      7\u001b[0m \u001b[0;32mfrom\u001b[0m \u001b[0mtyping\u001b[0m \u001b[0;32mimport\u001b[0m \u001b[0mTYPE_CHECKING\u001b[0m\u001b[0;34m,\u001b[0m \u001b[0mOptional\u001b[0m\u001b[0;34m,\u001b[0m \u001b[0mList\u001b[0m\u001b[0;34m\u001b[0m\u001b[0;34m\u001b[0m\u001b[0m\n\u001b[0;32m----> 8\u001b[0;31m \u001b[0;32mimport\u001b[0m \u001b[0minflect\u001b[0m\u001b[0;34m\u001b[0m\u001b[0;34m\u001b[0m\u001b[0m\n\u001b[0m\u001b[1;32m      9\u001b[0m \u001b[0;32mimport\u001b[0m \u001b[0mre\u001b[0m\u001b[0;34m\u001b[0m\u001b[0;34m\u001b[0m\u001b[0m\n\u001b[1;32m     10\u001b[0m \u001b[0;34m\u001b[0m\u001b[0m\n",
      "\u001b[0;31mModuleNotFoundError\u001b[0m: No module named 'inflect'"
     ]
    }
   ],
   "source": [
    "from plutus.portfolio.trackers import BinanceTracker\n",
    "from plutus.trade.exchanges import Binance\n",
    "from plutus.configuration import config\n",
    "from plutus import database as db\n",
    "from plutus.models.enums import *\n",
    "from plutus.models import *\n",
    "from sqlmodel import Session, select, text, desc, update, func\n",
    "from datetime import datetime, timedelta, timezone\n",
    "import ccxt.async_support as ccxt\n",
    "import sqlalchemy as sa\n",
    "import pandas as pd\n",
    "import numpy as np\n",
    "import asyncio\n",
    "import time\n",
    "import json\n",
    "import pytz"
   ]
  },
  {
   "cell_type": "code",
   "execution_count": null,
   "id": "f10b3b8f-e6a6-41e5-b1c1-c367f6b112dc",
   "metadata": {},
   "outputs": [],
   "source": [
    "pd.set_option(\"display.max_columns\", None)"
   ]
  },
  {
   "cell_type": "code",
   "execution_count": null,
   "id": "74e6b4b7-8f28-4652-b0ae-c0b78d2e57d4",
   "metadata": {},
   "outputs": [],
   "source": [
    "with open('secrets/ftx.json') as fopen:\n",
    "    ftx_api_key = json.loads(fopen.read())\n",
    "    \n",
    "with open('secrets/binance.json') as fopen:\n",
    "    binance_api_key = json.loads(fopen.read())"
   ]
  },
  {
   "cell_type": "markdown",
   "id": "4a6164c0-8737-4b64-b61b-118bf280b60a",
   "metadata": {},
   "source": [
    "## Binance"
   ]
  },
  {
   "cell_type": "code",
   "execution_count": null,
   "id": "c32ad71f-41e5-4779-ad98-113e1badaafe",
   "metadata": {},
   "outputs": [],
   "source": [
    "binance = Binance(binance_api_key)"
   ]
  },
  {
   "cell_type": "code",
   "execution_count": null,
   "id": "636e8b91-14d1-4e9b-bd0b-4f9c83d4a978",
   "metadata": {},
   "outputs": [],
   "source": [
    "binance_futures = BinanceFuturesBase('binancecoinm', binance_api_key)"
   ]
  },
  {
   "cell_type": "code",
   "execution_count": null,
   "id": "7bd1dd46-0619-42fe-a522-dbfe548ad01b",
   "metadata": {},
   "outputs": [],
   "source": [
    "incomes = await binance_futures._fetch_incomes(\n",
    "    'dapiPrivate_get_income',\n",
    "    since=datetime(2021,10,1, tzinfo=timezone.utc),\n",
    "    max_interval = timedelta(days=200)\n",
    ")"
   ]
  },
  {
   "cell_type": "code",
   "execution_count": null,
   "id": "71f75242-8b83-4c3b-acbc-d37d9b961642",
   "metadata": {},
   "outputs": [],
   "source": [
    "incomes1 = await binance.exchanges['usdm'].fetch_incomes(\n",
    "    since=datetime(2021,10,1, tzinfo=timezone.utc)\n",
    ")"
   ]
  },
  {
   "cell_type": "code",
   "execution_count": null,
   "id": "841cd9fb-af4f-4348-a3f8-829a4113d443",
   "metadata": {},
   "outputs": [],
   "source": [
    "len(incomes)"
   ]
  },
  {
   "cell_type": "code",
   "execution_count": null,
   "id": "f9d37d86-dab2-49ec-a244-7ce005216bb2",
   "metadata": {},
   "outputs": [],
   "source": [
    "incomes1"
   ]
  },
  {
   "cell_type": "code",
   "execution_count": null,
   "id": "4c6173da-d078-4aca-85c5-9754e3a6879a",
   "metadata": {
    "tags": []
   },
   "outputs": [],
   "source": [
    "await binance.exchanges['usdm'].fetch_positions()"
   ]
  },
  {
   "cell_type": "code",
   "execution_count": null,
   "id": "a1e39120-f7a4-436a-bd66-85cbe07657ec",
   "metadata": {
    "tags": []
   },
   "outputs": [],
   "source": [
    "await binance.exchanges['usdm'].api.fetch_positions()"
   ]
  },
  {
   "cell_type": "code",
   "execution_count": null,
   "id": "664763c8-7009-4085-b1c4-1efa9502fafc",
   "metadata": {},
   "outputs": [],
   "source": [
    "market = await binance.load_markets()"
   ]
  },
  {
   "cell_type": "code",
   "execution_count": null,
   "id": "9856a4f7-41b0-47a3-b6e4-01623c0875d5",
   "metadata": {
    "tags": []
   },
   "outputs": [],
   "source": [
    "my_spot_trades = await binance.fetch_my_trades(\n",
    "    'BTCUSDT', exchange='spot', \n",
    "    since=datetime(2021,10,1, tzinfo=timezone.utc),\n",
    "    # from_id=1,\n",
    ")"
   ]
  },
  {
   "cell_type": "code",
   "execution_count": null,
   "id": "07f4b772-527a-4861-88f8-d80d8299842d",
   "metadata": {
    "tags": []
   },
   "outputs": [],
   "source": [
    "my_spot_trades"
   ]
  },
  {
   "cell_type": "code",
   "execution_count": null,
   "id": "f17e82da-08fb-4eb4-8ac7-2c80ea21b9ee",
   "metadata": {},
   "outputs": [],
   "source": [
    "await binance.fetch_asset_balance('usdm')"
   ]
  },
  {
   "cell_type": "code",
   "execution_count": null,
   "id": "36ddd060-a061-497a-a28e-78f0803ce975",
   "metadata": {
    "tags": []
   },
   "outputs": [],
   "source": [
    "fh = await binance.fetch_funding_history(since=datetime(2022,4,1))"
   ]
  },
  {
   "cell_type": "code",
   "execution_count": null,
   "id": "33093e11-4c79-4bcb-a5cd-eee4b88329c1",
   "metadata": {},
   "outputs": [],
   "source": [
    "fh = pd.DataFrame(fh)"
   ]
  },
  {
   "cell_type": "code",
   "execution_count": null,
   "id": "2902a7f1-368a-41af-9439-af2de6ab0253",
   "metadata": {},
   "outputs": [],
   "source": [
    "fh['datetime'] = pd.to_datetime(fh['datetime']).dt.round('1h')"
   ]
  },
  {
   "cell_type": "code",
   "execution_count": null,
   "id": "5ef4e485-7a46-4eb9-ae95-3d81e781e369",
   "metadata": {},
   "outputs": [],
   "source": [
    "since_dict = fh.groupby(['symbol'])['datetime'].min().to_dict()"
   ]
  },
  {
   "cell_type": "code",
   "execution_count": null,
   "id": "4db6a48e-8f37-4443-9853-dc056804dc08",
   "metadata": {},
   "outputs": [],
   "source": [
    "since_dict"
   ]
  },
  {
   "cell_type": "code",
   "execution_count": null,
   "id": "0cde689c-1a8e-448e-a7cc-2d44eac059b8",
   "metadata": {},
   "outputs": [],
   "source": [
    "frh = await binance.fetch_funding_rate_history(\n",
    "    symbol='AVAX/USDT', exchange='usdm',since=since\n",
    ")"
   ]
  },
  {
   "cell_type": "code",
   "execution_count": null,
   "id": "98f6cb3d-4075-48d1-8a53-e72621fec2a5",
   "metadata": {},
   "outputs": [],
   "source": [
    "frh = pd.DataFrame(frh)"
   ]
  },
  {
   "cell_type": "code",
   "execution_count": null,
   "id": "03c6bd79-07e3-43a3-ae2a-a30a014755d1",
   "metadata": {},
   "outputs": [],
   "source": [
    "fh[fh['symbol'] == 'AVAX/USDT']"
   ]
  },
  {
   "cell_type": "code",
   "execution_count": null,
   "id": "6569e2ca-f4f3-4ff0-8235-684e7017bac0",
   "metadata": {},
   "outputs": [],
   "source": [
    "frh['datetime'] = pd.to_datetime(frh['datetime']).dt.round('1h')"
   ]
  },
  {
   "cell_type": "code",
   "execution_count": null,
   "id": "3efd3fb1-047e-4e2b-b37f-0c68f8b366d7",
   "metadata": {},
   "outputs": [],
   "source": [
    "frh = frh[['symbol', 'datetime', 'fundingRate']]"
   ]
  },
  {
   "cell_type": "code",
   "execution_count": null,
   "id": "3e446e47-8344-4e45-a53e-04b2ec2c130d",
   "metadata": {},
   "outputs": [],
   "source": [
    "fh.merge(frh, how='inner',on=['symbol', 'datetime'])"
   ]
  },
  {
   "cell_type": "code",
   "execution_count": null,
   "id": "cef4d2bb-7831-44d2-911e-70f5f0c71778",
   "metadata": {
    "tags": []
   },
   "outputs": [],
   "source": [
    "binance.exchanges['coinm'].api.parse_incomes(funding_history)"
   ]
  },
  {
   "cell_type": "code",
   "execution_count": null,
   "id": "9d7d15b4-0983-4669-87f9-ebff85e6e6aa",
   "metadata": {
    "tags": []
   },
   "outputs": [],
   "source": [
    "list(results)"
   ]
  },
  {
   "cell_type": "code",
   "execution_count": null,
   "id": "aecf2d7a-c304-4b38-837d-de1052609a12",
   "metadata": {
    "jupyter": {
     "source_hidden": true
    },
    "tags": []
   },
   "outputs": [],
   "source": [
    "await binance.fetch_asset_balance()"
   ]
  },
  {
   "cell_type": "code",
   "execution_count": null,
   "id": "0c2e0577-5fed-4ec3-90c5-fb806bf0fee1",
   "metadata": {
    "tags": []
   },
   "outputs": [],
   "source": [
    "await binance.fetch_deposits(since=datetime(2021,10,1))"
   ]
  },
  {
   "cell_type": "code",
   "execution_count": null,
   "id": "e06ceb1a-e9d2-4eff-a66e-5ce7aa623dba",
   "metadata": {
    "tags": []
   },
   "outputs": [],
   "source": [
    "await binance.fetch_withdrawals()"
   ]
  },
  {
   "cell_type": "code",
   "execution_count": null,
   "id": "80fe409c-2fae-4f3c-869d-75a7bd858496",
   "metadata": {
    "tags": []
   },
   "outputs": [],
   "source": [
    "await binance.fetch_my_trades(\n",
    "    'ETH/USD', exchange='coinm', \n",
    "    since=datetime(2021,10,1, tzinfo=timezone.utc),\n",
    ")"
   ]
  },
  {
   "cell_type": "code",
   "execution_count": null,
   "id": "3dd3bec9-936f-4021-8803-bc102dd7810d",
   "metadata": {
    "tags": []
   },
   "outputs": [],
   "source": [
    "await binance.fetch_convert_history(since=datetime(2021,10,1))"
   ]
  },
  {
   "cell_type": "code",
   "execution_count": null,
   "id": "3cf7a903-cc8a-421c-a0bc-376efd57f66a",
   "metadata": {
    "tags": []
   },
   "outputs": [],
   "source": [
    "await binance.fetch_ticker('BTCUSDT')"
   ]
  },
  {
   "cell_type": "code",
   "execution_count": null,
   "id": "3a44f6e3-e2e8-4f09-9895-56523a23841f",
   "metadata": {
    "tags": []
   },
   "outputs": [],
   "source": [
    "await binance.fetch_funding_history(since=datetime(2021,10,1))"
   ]
  },
  {
   "cell_type": "code",
   "execution_count": null,
   "id": "4b027092-5ee4-4935-ab3c-de859a90236d",
   "metadata": {
    "tags": []
   },
   "outputs": [],
   "source": [
    "await binance.fetch_c2c_trades(since=datetime(2021,10,1))"
   ]
  },
  {
   "cell_type": "code",
   "execution_count": null,
   "id": "b793a840-7fb0-4351-ae08-90b4e54a0887",
   "metadata": {
    "tags": []
   },
   "outputs": [],
   "source": [
    "await binance.exchanges['usdm'].api.fetch_positions()"
   ]
  },
  {
   "cell_type": "code",
   "execution_count": null,
   "id": "a595854c-5f16-4d50-a6e8-a4a8173eab3c",
   "metadata": {},
   "outputs": [],
   "source": [
    "await binance.fetch_ticker('BTCUSDT')"
   ]
  },
  {
   "cell_type": "code",
   "execution_count": null,
   "id": "a372f9ef-37ae-4e29-a06a-4a98098d8215",
   "metadata": {
    "tags": []
   },
   "outputs": [],
   "source": [
    "usdm_incomes = await binance.fetch_futures_income(exchange='usdm',since=datetime(2021,10,1))"
   ]
  },
  {
   "cell_type": "code",
   "execution_count": null,
   "id": "5af133a3-4c8b-47c7-a53a-183c571bab62",
   "metadata": {
    "tags": []
   },
   "outputs": [],
   "source": [
    "usdm_commissions = await binance.fetch_futures_commissions('usdm',since=datetime(2021,10,1))\n",
    "coinm_commissions = await binance.fetch_futures_commissions('coinm',since=datetime(2021,10,1))"
   ]
  },
  {
   "cell_type": "code",
   "execution_count": null,
   "id": "702ef446-18f5-4082-91e9-7e3018fdc7b0",
   "metadata": {},
   "outputs": [],
   "source": [
    "usdm_commissions = pd.DataFrame(usdm_commissions)\n",
    "coinm_commissions = pd.DataFrame(coinm_commissions)"
   ]
  },
  {
   "cell_type": "code",
   "execution_count": null,
   "id": "1e626991-0a97-4a2d-b603-88a3fbec61b1",
   "metadata": {},
   "outputs": [],
   "source": [
    "usdm_ids = usdm_commissions.groupby('symbol')['tradeId'].min().to_dict()\n",
    "coinm_ids = coinm_commissions.groupby('symbol')['tradeId'].min().to_dict()"
   ]
  },
  {
   "cell_type": "code",
   "execution_count": null,
   "id": "d7e39f02-d16d-4ba9-984e-6d0ab3dcd65c",
   "metadata": {},
   "outputs": [],
   "source": [
    "usdm_ids"
   ]
  },
  {
   "cell_type": "code",
   "execution_count": null,
   "id": "1e565e3b-2555-4e47-aa2d-dc7929f54943",
   "metadata": {},
   "outputs": [],
   "source": [
    "coinm_ids"
   ]
  },
  {
   "cell_type": "code",
   "execution_count": null,
   "id": "2673e9a0-f5b7-4d30-96b5-d81ad3388abd",
   "metadata": {},
   "outputs": [],
   "source": [
    "my_usdm_trades = await binance.fetch_my_trades(\n",
    "    'BTCUSDT', exchange='usdm', \n",
    "    from_id=1686975525\n",
    ")"
   ]
  },
  {
   "cell_type": "code",
   "execution_count": null,
   "id": "7291a37f-aedd-44c9-8209-e142521966df",
   "metadata": {},
   "outputs": [],
   "source": [
    "my_coinm_trades = await binance.fetch_my_trades(\n",
    "    'BTCUSD_PERP', exchange='coinm', \n",
    "    from_id=260029163\n",
    ")"
   ]
  },
  {
   "cell_type": "code",
   "execution_count": null,
   "id": "d3236362-72ab-4b30-b4ef-fe3d29567b1b",
   "metadata": {},
   "outputs": [],
   "source": [
    "my_spot_trades[0]"
   ]
  },
  {
   "cell_type": "code",
   "execution_count": null,
   "id": "ade6c126-328a-4f68-bea1-860f5eed296a",
   "metadata": {},
   "outputs": [],
   "source": [
    "my_usdm_trades[0]"
   ]
  },
  {
   "cell_type": "code",
   "execution_count": null,
   "id": "54592fd5-06b4-4607-9ec0-b44cbcebebfc",
   "metadata": {},
   "outputs": [],
   "source": [
    "my_coinm_trades[0]"
   ]
  },
  {
   "cell_type": "code",
   "execution_count": null,
   "id": "bfe6ccaa-47d3-46f7-bd1c-d406ec449d5c",
   "metadata": {},
   "outputs": [],
   "source": [
    "tracker.process_my_trades('coinm', my_coinm_trades)"
   ]
  },
  {
   "cell_type": "code",
   "execution_count": null,
   "id": "d35ec293-28ff-451a-a741-be7e866474e1",
   "metadata": {},
   "outputs": [],
   "source": [
    "help(tracker.process_my_trades)"
   ]
  },
  {
   "cell_type": "code",
   "execution_count": null,
   "id": "09ced68b-0a84-4421-96dc-6e9ea2a0369a",
   "metadata": {},
   "outputs": [],
   "source": [
    "df = pd.DataFrame(my_usdm_trades)"
   ]
  },
  {
   "cell_type": "code",
   "execution_count": null,
   "id": "d64dc437-f0a6-4958-b7c9-85ca32bd5da0",
   "metadata": {},
   "outputs": [],
   "source": [
    "df['info'].apply(pd.Series)['side'].str.lower()"
   ]
  },
  {
   "cell_type": "code",
   "execution_count": null,
   "id": "7a64b26f-1fda-4db6-9f4e-0c11907d221c",
   "metadata": {},
   "outputs": [],
   "source": [
    "tracker.process_spot_trades(my_trades)"
   ]
  },
  {
   "cell_type": "code",
   "execution_count": null,
   "id": "3d7b41d2-3eab-4e87-9058-8fde887bd6c4",
   "metadata": {},
   "outputs": [],
   "source": [
    "my_trades"
   ]
  },
  {
   "cell_type": "code",
   "execution_count": null,
   "id": "499cc7f5-4bd9-408c-8d2f-16cb201feec4",
   "metadata": {},
   "outputs": [],
   "source": [
    "incomes = await binance.fetch_futures_income(since=datetime(2021,10,1))"
   ]
  },
  {
   "cell_type": "code",
   "execution_count": null,
   "id": "486cc930-e742-4de1-8292-e70038de2b13",
   "metadata": {},
   "outputs": [],
   "source": [
    "incomes"
   ]
  },
  {
   "cell_type": "code",
   "execution_count": null,
   "id": "7d129033-ad86-444c-9abf-0193e3ccde1f",
   "metadata": {},
   "outputs": [],
   "source": [
    "await binance.close()"
   ]
  },
  {
   "cell_type": "code",
   "execution_count": null,
   "id": "aef3900c-d766-4700-b1c1-822a371329b9",
   "metadata": {
    "tags": []
   },
   "outputs": [],
   "source": [
    "with Session(db.engine) as session:\n",
    "    debit_account = TAccount(id=2).get(session)"
   ]
  },
  {
   "cell_type": "markdown",
   "id": "b8ed42bf-df8b-41c0-a88b-ff9eadf9d46b",
   "metadata": {
    "tags": []
   },
   "source": [
    "## Binance Tracker"
   ]
  },
  {
   "cell_type": "code",
   "execution_count": null,
   "id": "acae8b65-c5fd-4cbd-9925-d94ea008016e",
   "metadata": {},
   "outputs": [],
   "source": [
    "BASE_CURRENCY = 'USDT'\n",
    "CASH_EQUIVALENTS = ['USDT', 'BUSD', 'USDC'] "
   ]
  },
  {
   "cell_type": "code",
   "execution_count": 2,
   "id": "063fb52f-9403-4234-a194-f6480d509bfd",
   "metadata": {
    "tags": []
   },
   "outputs": [
    {
     "ename": "NameError",
     "evalue": "name 'Session' is not defined",
     "output_type": "error",
     "traceback": [
      "\u001b[0;31m---------------------------------------------------------------------------\u001b[0m",
      "\u001b[0;31mNameError\u001b[0m                                 Traceback (most recent call last)",
      "\u001b[0;32m/tmp/ipykernel_17/935557616.py\u001b[0m in \u001b[0;36m<module>\u001b[0;34m\u001b[0m\n\u001b[0;32m----> 1\u001b[0;31m \u001b[0;32mwith\u001b[0m \u001b[0mSession\u001b[0m\u001b[0;34m(\u001b[0m\u001b[0mdb\u001b[0m\u001b[0;34m.\u001b[0m\u001b[0mengine\u001b[0m\u001b[0;34m)\u001b[0m \u001b[0;32mas\u001b[0m \u001b[0msession\u001b[0m\u001b[0;34m:\u001b[0m\u001b[0;34m\u001b[0m\u001b[0;34m\u001b[0m\u001b[0m\n\u001b[0m\u001b[1;32m      2\u001b[0m     statement = (\n\u001b[1;32m      3\u001b[0m         \u001b[0mselect\u001b[0m\u001b[0;34m(\u001b[0m\u001b[0mAccount\u001b[0m\u001b[0;34m)\u001b[0m\u001b[0;34m\u001b[0m\u001b[0;34m\u001b[0m\u001b[0m\n\u001b[1;32m      4\u001b[0m         \u001b[0;34m.\u001b[0m\u001b[0mjoin\u001b[0m\u001b[0;34m(\u001b[0m\u001b[0mUser\u001b[0m\u001b[0;34m)\u001b[0m\u001b[0;34m\u001b[0m\u001b[0;34m\u001b[0m\u001b[0m\n\u001b[1;32m      5\u001b[0m         \u001b[0;34m.\u001b[0m\u001b[0mjoin\u001b[0m\u001b[0;34m(\u001b[0m\u001b[0mPlatform\u001b[0m\u001b[0;34m)\u001b[0m\u001b[0;34m\u001b[0m\u001b[0;34m\u001b[0m\u001b[0m\n",
      "\u001b[0;31mNameError\u001b[0m: name 'Session' is not defined"
     ]
    }
   ],
   "source": [
    "with Session(db.engine) as session:\n",
    "    statement = (\n",
    "        select(Account)\n",
    "        .join(User)\n",
    "        .join(Platform)\n",
    "        .where(\n",
    "            (User.name == 'Cheun Hong') &\n",
    "            (Platform.name == 'binance')\n",
    "        )\n",
    "    )\n",
    "    print(statement)\n",
    "    results = session.exec(statement)\n",
    "    account = results.first()"
   ]
  },
  {
   "cell_type": "code",
   "execution_count": 3,
   "id": "868e13f6-0175-417b-ba1e-5659a6ab740c",
   "metadata": {
    "tags": []
   },
   "outputs": [
    {
     "ename": "NameError",
     "evalue": "name 'BinanceTracker' is not defined",
     "output_type": "error",
     "traceback": [
      "\u001b[0;31m---------------------------------------------------------------------------\u001b[0m",
      "\u001b[0;31mNameError\u001b[0m                                 Traceback (most recent call last)",
      "\u001b[0;32m/tmp/ipykernel_17/1820454618.py\u001b[0m in \u001b[0;36m<module>\u001b[0;34m\u001b[0m\n\u001b[0;32m----> 1\u001b[0;31m \u001b[0mtracker\u001b[0m \u001b[0;34m=\u001b[0m \u001b[0mBinanceTracker\u001b[0m\u001b[0;34m(\u001b[0m\u001b[0mbinance_api_key\u001b[0m\u001b[0;34m,\u001b[0m \u001b[0maccount_id\u001b[0m \u001b[0;34m=\u001b[0m \u001b[0maccount\u001b[0m\u001b[0;34m.\u001b[0m\u001b[0mid\u001b[0m\u001b[0;34m)\u001b[0m\u001b[0;34m\u001b[0m\u001b[0;34m\u001b[0m\u001b[0m\n\u001b[0m",
      "\u001b[0;31mNameError\u001b[0m: name 'BinanceTracker' is not defined"
     ]
    }
   ],
   "source": [
    "tracker = BinanceTracker(binance_api_key, account_id = account.id)"
   ]
  },
  {
   "cell_type": "code",
   "execution_count": null,
   "id": "bbc8ac00-a5bf-45a1-83eb-15f2d3c7fcbc",
   "metadata": {},
   "outputs": [],
   "source": [
    "tracker.get_positions_df(AssetType.crypto_perp)"
   ]
  },
  {
   "cell_type": "code",
   "execution_count": null,
   "id": "6a55b5bb-6488-4c4d-bbaa-8486af6f9c76",
   "metadata": {},
   "outputs": [],
   "source": [
    "# trades = await tracker.init_spot_balance()"
   ]
  },
  {
   "cell_type": "code",
   "execution_count": null,
   "id": "ecb68090-b7a3-40b1-abd8-4959a14fa1b9",
   "metadata": {},
   "outputs": [],
   "source": [
    "new_trades = await tracker.fetch_new_spot_trades()"
   ]
  },
  {
   "cell_type": "code",
   "execution_count": null,
   "id": "bf00f183-7dcb-4f17-b10c-64ce4c7b6541",
   "metadata": {},
   "outputs": [],
   "source": [
    "new_trades = await tracker.fetch_new_futures_trades('usdm')"
   ]
  },
  {
   "cell_type": "code",
   "execution_count": null,
   "id": "d2827bae-5547-4cc2-9027-021209679a78",
   "metadata": {},
   "outputs": [],
   "source": [
    "new_trades"
   ]
  },
  {
   "cell_type": "code",
   "execution_count": null,
   "id": "19b20c5f-1e56-47c7-8e9e-dadc661fe0bf",
   "metadata": {},
   "outputs": [],
   "source": [
    "last_transacted = tracker.get_last_transacted_at(AssetType.crypto_perp)\n"
   ]
  },
  {
   "cell_type": "code",
   "execution_count": null,
   "id": "765c6a23-619a-4f97-a3fe-ab33d65409a2",
   "metadata": {},
   "outputs": [],
   "source": [
    "last_transacted"
   ]
  },
  {
   "cell_type": "code",
   "execution_count": null,
   "id": "501fa0a6-c2ad-46b2-93af-dff1f07b6713",
   "metadata": {},
   "outputs": [],
   "source": [
    "comms = await tracker.binance.fetch_commissions(\n",
    "    exchange='usdm'\n",
    ")"
   ]
  },
  {
   "cell_type": "code",
   "execution_count": null,
   "id": "a7abf3e9-dfd0-4a6d-a49e-f1aa67017a23",
   "metadata": {
    "tags": []
   },
   "outputs": [],
   "source": [
    "comms"
   ]
  },
  {
   "cell_type": "code",
   "execution_count": null,
   "id": "3f590884-edc3-4025-b4bb-87c2b112bde4",
   "metadata": {},
   "outputs": [],
   "source": [
    "new_trades = await tracker.binance.fetch_my_trades(\n",
    "    'BTCUSDT', 'usdm', from_id=2154011959\n",
    ")"
   ]
  },
  {
   "cell_type": "code",
   "execution_count": null,
   "id": "c957cbd7-7ce7-45c5-8794-fdcd0ba6d287",
   "metadata": {},
   "outputs": [],
   "source": [
    "new_trades"
   ]
  },
  {
   "cell_type": "code",
   "execution_count": null,
   "id": "0c227c19-08f5-4199-9bf8-dfd1246865ea",
   "metadata": {},
   "outputs": [],
   "source": [
    "new_trades"
   ]
  },
  {
   "cell_type": "code",
   "execution_count": null,
   "id": "1ee4ede2-4cb1-418b-8322-bd6a957609ff",
   "metadata": {},
   "outputs": [],
   "source": [
    "new_funding_fees = await tracker.fetch_new_funding_fees('usdm')"
   ]
  },
  {
   "cell_type": "code",
   "execution_count": null,
   "id": "3dad5c42-a872-43bc-8fd8-d3d1bf757b7f",
   "metadata": {},
   "outputs": [],
   "source": [
    "new_funding_fees"
   ]
  },
  {
   "cell_type": "code",
   "execution_count": null,
   "id": "5a93cbb2-b689-4e4f-974d-235f4c10c28b",
   "metadata": {
    "tags": []
   },
   "outputs": [],
   "source": [
    "new_funding_fees['info'].apply(pd.Series)"
   ]
  },
  {
   "cell_type": "code",
   "execution_count": null,
   "id": "89502eca-7724-427a-8b1a-ff9cfac48963",
   "metadata": {},
   "outputs": [],
   "source": [
    "new_funding_fees['info_y'].apply(pd.Series)"
   ]
  },
  {
   "cell_type": "code",
   "execution_count": null,
   "id": "000a8709-e807-4651-a94e-6a73d30509f8",
   "metadata": {
    "tags": []
   },
   "outputs": [],
   "source": [
    "new_trades"
   ]
  },
  {
   "cell_type": "code",
   "execution_count": null,
   "id": "47866bdc-108d-4c3f-8894-f98d8e1d12e8",
   "metadata": {},
   "outputs": [],
   "source": [
    "processed_my_trades = tracker.process_my_trades('spot', new_trades)"
   ]
  },
  {
   "cell_type": "code",
   "execution_count": null,
   "id": "72bd85e7-245f-4e28-8768-fa6aaecbc413",
   "metadata": {},
   "outputs": [],
   "source": [
    "processed_my_trades = tracker.process_my_trades('usdm', new_trades)"
   ]
  },
  {
   "cell_type": "code",
   "execution_count": null,
   "id": "ec22297f-a627-4e16-9240-b86735ddda72",
   "metadata": {},
   "outputs": [],
   "source": [
    "processed_my_trades"
   ]
  },
  {
   "cell_type": "code",
   "execution_count": null,
   "id": "9deab0e7-88fa-4fad-91fd-ba6bb25a63a9",
   "metadata": {},
   "outputs": [],
   "source": [
    "processed_my_trades"
   ]
  },
  {
   "cell_type": "code",
   "execution_count": null,
   "id": "499c26ec-f124-4a91-aa2b-67f5b25ca0dc",
   "metadata": {},
   "outputs": [],
   "source": [
    "await binance.fetch_futures_commissions(since=last_transacted)"
   ]
  },
  {
   "cell_type": "code",
   "execution_count": null,
   "id": "a2acd8e3-b7f3-4934-ae74-76251b370d83",
   "metadata": {
    "tags": []
   },
   "outputs": [],
   "source": [
    "start = time.time()\n",
    "await tracker.record_spot_trades()\n",
    "print('Used', time.time() - start, 'seconds')"
   ]
  },
  {
   "cell_type": "code",
   "execution_count": null,
   "id": "2dd0fc60-b00d-4467-9d9e-f0f14b2abca5",
   "metadata": {
    "tags": []
   },
   "outputs": [],
   "source": [
    "start = time.time()\n",
    "await tracker.record_futures_trades()\n",
    "print('Used', time.time() - start, 'seconds')"
   ]
  },
  {
   "cell_type": "code",
   "execution_count": null,
   "id": "1cd9e55b-5551-487d-b3ea-c749272a0089",
   "metadata": {
    "tags": []
   },
   "outputs": [],
   "source": [
    "start = time.time()\n",
    "await tracker.record_funding_history()\n",
    "print('Used', time.time() - start, 'seconds')"
   ]
  },
  {
   "cell_type": "code",
   "execution_count": null,
   "id": "a8957775-af7f-47c9-929f-a3c6019f4cf7",
   "metadata": {},
   "outputs": [],
   "source": [
    "await tracker.get_current_spot_balance()"
   ]
  },
  {
   "cell_type": "code",
   "execution_count": null,
   "id": "6c3b224c-4535-4957-8ca0-659314d89268",
   "metadata": {},
   "outputs": [],
   "source": [
    "tracker.get_spot_balance()"
   ]
  },
  {
   "cell_type": "code",
   "execution_count": null,
   "id": "0e54d5cf-c335-4ce7-9a4b-069ec7e89bcb",
   "metadata": {
    "jupyter": {
     "source_hidden": true
    },
    "tags": []
   },
   "outputs": [],
   "source": [
    "await tracker.get_spot_balance_discrepancy()"
   ]
  },
  {
   "cell_type": "code",
   "execution_count": null,
   "id": "1a178d02-0993-4707-83c5-376400044295",
   "metadata": {
    "tags": []
   },
   "outputs": [],
   "source": [
    "await tracker.get_spot_balance_discrepancy()"
   ]
  },
  {
   "cell_type": "code",
   "execution_count": null,
   "id": "8642908a-66bc-48b6-93aa-9e55e85f5526",
   "metadata": {},
   "outputs": [],
   "source": [
    "await tracker.update_spot_positions()"
   ]
  },
  {
   "cell_type": "code",
   "execution_count": null,
   "id": "394d5d3f-be09-446d-b223-76cdff617a5d",
   "metadata": {},
   "outputs": [],
   "source": [
    "await tracker.close()"
   ]
  },
  {
   "cell_type": "markdown",
   "id": "34d73e90-673b-4298-9752-49a19e72fae0",
   "metadata": {
    "tags": []
   },
   "source": [
    "### DB"
   ]
  },
  {
   "cell_type": "code",
   "execution_count": null,
   "id": "8dff3865-6ec6-4c66-9a46-2ebaaa6c5876",
   "metadata": {
    "tags": []
   },
   "outputs": [],
   "source": [
    "db.initdb()"
   ]
  },
  {
   "cell_type": "markdown",
   "id": "60eaab03-25c0-47da-ad23-c322e5edbd12",
   "metadata": {},
   "source": [
    "## Web 3"
   ]
  },
  {
   "cell_type": "code",
   "execution_count": null,
   "id": "f2499d9a-7656-40b8-af36-f6baed296f03",
   "metadata": {},
   "outputs": [],
   "source": [
    "from web3 import Web3\n",
    "import requests, time, json"
   ]
  },
  {
   "cell_type": "code",
   "execution_count": null,
   "id": "cd2cf71e-35d0-4da5-9c66-fa19f4d0c502",
   "metadata": {},
   "outputs": [],
   "source": [
    "bsc = 'https://bsc-dataseed.binance.org/'\n",
    "web3 = Web3(Web3.HTTPProvider(bsc))\n",
    "print(web3.isConnected())"
   ]
  },
  {
   "cell_type": "code",
   "execution_count": null,
   "id": "7dda26dd-f217-4204-85ad-61e15bfb6e4c",
   "metadata": {},
   "outputs": [],
   "source": [
    "address = '0xD40046b6351D6C9d193a337d0A9E645fA7f22D2a'\n",
    "balance = web3.eth.get_balance(address)\n",
    "print(balance)"
   ]
  },
  {
   "cell_type": "code",
   "execution_count": null,
   "id": "911bb59d-7b9b-4d19-8457-7175604258f5",
   "metadata": {},
   "outputs": [],
   "source": [
    "result = web3.fromWei(balance,'ether')\n",
    "print(result)"
   ]
  },
  {
   "cell_type": "code",
   "execution_count": null,
   "id": "2415f25a-4e49-452b-a226-60c8b6bdecb1",
   "metadata": {},
   "outputs": [],
   "source": [
    "MyAddress = '0xD40046b6351D6C9d193a337d0A9E645fA7f22D2a'\n",
    "TokenAddress = '0xe9e7cea3dedca5984780bafc599bd69add087d56'\n",
    "\n",
    "url_eth = 'https://api.bscscan.com/api'\n",
    "contract_address = web3.toChecksumAddress(TokenAddress)\n",
    "API_ENDPOINT = (\n",
    "    url_eth\n",
    "    + '?module=contract&action=getabi&address='\n",
    "    + str(contract_address)\n",
    ")\n",
    "r = requests.get(url = API_ENDPOINT)\n",
    "response = r.json()\n",
    "abi = json.loads(response['result'])"
   ]
  },
  {
   "cell_type": "code",
   "execution_count": null,
   "id": "f17f92ee-82a6-4e8b-8aaf-c238151af175",
   "metadata": {},
   "outputs": [],
   "source": [
    "contract = web3.eth.contract(address=contract_address, abi=abi)\n",
    "totalSupply = contract.functions.totalSupply().call()\n",
    "print(totalSupply)\n",
    "print(contract.functions.name().call())\n",
    "print(contract.functions.symbol().call())\n",
    "address = web3.toChecksumAddress(MyAddress)\n",
    "balance=contract.functions.balanceOf(address).call()\n",
    "print(web3.fromWei(balance, 'ether'))"
   ]
  },
  {
   "cell_type": "markdown",
   "id": "62e640d3-df3d-42b4-9621-85fa82a2ac07",
   "metadata": {},
   "source": [
    "## Testing SQLModel"
   ]
  },
  {
   "cell_type": "code",
   "execution_count": null,
   "id": "1544a423-9443-4b17-af8a-8e8fc0e0221b",
   "metadata": {
    "tags": []
   },
   "outputs": [],
   "source": [
    "from portfi.models.enums import AssetType\n",
    "from portfi.models.base import BaseModel\n",
    "from portfi import database as db\n",
    "from sqlmodel import (\n",
    "    SQLModel, MetaData, Field, Column, ForeignKey, \n",
    "    Index, Session, String, Enum, text, select,\n",
    "    create_engine, ForeignKey, Relationship\n",
    ")\n",
    "from sqlalchemy.dialects.mysql import INTEGER, TIMESTAMP\n",
    "from sqlalchemy.ext.declarative import declared_attr\n",
    "from google.cloud import secretmanager\n",
    "from datetime import datetime\n",
    "from typing import Optional, List\n",
    "import sqlalchemy as sa\n",
    "import pandas as pd\n",
    "import json\n",
    "import re"
   ]
  },
  {
   "cell_type": "code",
   "execution_count": null,
   "id": "00cae9c2-1232-47ca-b5be-042de8c929ce",
   "metadata": {
    "tags": []
   },
   "outputs": [],
   "source": [
    "class Test(BaseModel, table=True):\n",
    "    __table_args__ = (\n",
    "        Index('name_idx', 'name', unique=True),\n",
    "        # {'extend_existing': True},\n",
    "    )\n",
    "    name: str = Field(sa_column=Column(String(10)))\n",
    "    asset_type: Optional[AssetType] = Field(sa_column=Column(Enum(AssetType)))"
   ]
  },
  {
   "cell_type": "code",
   "execution_count": null,
   "id": "9b5ee4be-4b74-462b-aeee-d31add7ca6b1",
   "metadata": {},
   "outputs": [],
   "source": [
    "test = Test(name='b')"
   ]
  },
  {
   "cell_type": "code",
   "execution_count": null,
   "id": "3141ce38-f063-4d3e-9e0f-ea1b7ba37312",
   "metadata": {},
   "outputs": [],
   "source": [
    "dir(test)"
   ]
  },
  {
   "cell_type": "code",
   "execution_count": null,
   "id": "a90f5157-5a2c-47b5-a72a-13c50f277cc1",
   "metadata": {},
   "outputs": [],
   "source": [
    "test."
   ]
  },
  {
   "cell_type": "code",
   "execution_count": null,
   "id": "86258170-6eec-4c11-9815-2a455f94d563",
   "metadata": {},
   "outputs": [],
   "source": [
    "with Session(db.engine) as session:\n",
    "    test = Test(name='b')\n",
    "    test.add(session)\n",
    "    session.commit()"
   ]
  },
  {
   "cell_type": "code",
   "execution_count": null,
   "id": "3cc0c234-53ec-487a-a83d-6c1d6e49f829",
   "metadata": {
    "tags": []
   },
   "outputs": [],
   "source": [
    "db.initdb()"
   ]
  },
  {
   "cell_type": "markdown",
   "id": "813d7683-af75-4088-90c7-4a04a8a43315",
   "metadata": {},
   "source": [
    "## Coingecko API"
   ]
  },
  {
   "cell_type": "code",
   "execution_count": null,
   "id": "d9926bcc-f443-41c9-8517-8066a21a40cd",
   "metadata": {},
   "outputs": [],
   "source": [
    "from pycoingecko import CoinGeckoAPI\n",
    "cg = CoinGeckoAPI()"
   ]
  },
  {
   "cell_type": "code",
   "execution_count": null,
   "id": "d778b584-75ca-4167-96d0-98a2378fb426",
   "metadata": {},
   "outputs": [],
   "source": [
    "cg.ping()"
   ]
  },
  {
   "cell_type": "code",
   "execution_count": null,
   "id": "1630ce59-ea51-48b5-b814-180d4103d284",
   "metadata": {
    "tags": []
   },
   "outputs": [],
   "source": [
    "cg.get_coins_categories_list()"
   ]
  },
  {
   "cell_type": "code",
   "execution_count": null,
   "id": "d4f3da6a-8e74-4e09-b187-0bae1b6699c8",
   "metadata": {
    "tags": []
   },
   "outputs": [],
   "source": [
    "cg.get_coins_categories()\n"
   ]
  },
  {
   "cell_type": "code",
   "execution_count": null,
   "id": "872b20ff-0900-46f8-a86a-1ca1f54ef059",
   "metadata": {
    "tags": []
   },
   "outputs": [],
   "source": [
    "cg.get_coins_list()\n"
   ]
  },
  {
   "cell_type": "code",
   "execution_count": null,
   "id": "fd634f4a-eaae-42bb-b528-7ffe98c47b91",
   "metadata": {},
   "outputs": [],
   "source": [
    "len('currency_exchanges')"
   ]
  },
  {
   "cell_type": "code",
   "execution_count": null,
   "id": "0d9f4edc-708f-458e-8299-ab4ef57c95be",
   "metadata": {},
   "outputs": [],
   "source": [
    "type(datetime.now())"
   ]
  },
  {
   "cell_type": "code",
   "execution_count": null,
   "id": "8874558d-b09d-4bdb-b11e-2c9011739a09",
   "metadata": {},
   "outputs": [],
   "source": [
    "from datetime import timedelta"
   ]
  },
  {
   "cell_type": "code",
   "execution_count": null,
   "id": "a9531cfe-c785-482f-ab8c-ef4c399b69ee",
   "metadata": {},
   "outputs": [],
   "source": [
    "type(timedelta(minutes=7))"
   ]
  },
  {
   "cell_type": "code",
   "execution_count": null,
   "id": "36928bc4-36fb-49db-be84-7e3cadd8fa06",
   "metadata": {},
   "outputs": [],
   "source": [
    "from tradesk.crypto.exchanges import Binance"
   ]
  },
  {
   "cell_type": "code",
   "execution_count": null,
   "id": "20d292d1-6f15-4027-859c-75cdc1f7fabe",
   "metadata": {
    "tags": []
   },
   "outputs": [],
   "source": [
    "help(Binance)"
   ]
  },
  {
   "cell_type": "code",
   "execution_count": null,
   "id": "4d3ab7a1-02d9-4f6c-afe5-f023d54a852e",
   "metadata": {},
   "outputs": [],
   "source": [
    "from typing_extensions import Literal\n",
    "\n",
    "a = Literal['a', 'b']"
   ]
  },
  {
   "cell_type": "code",
   "execution_count": null,
   "id": "51e7789d-31ef-4561-96e6-1537b88671c0",
   "metadata": {},
   "outputs": [],
   "source": [
    "a.__args__ = ('a', 'b', 'c')"
   ]
  },
  {
   "cell_type": "code",
   "execution_count": null,
   "id": "e4c96828-f225-4802-a9b7-10f71f22243b",
   "metadata": {},
   "outputs": [],
   "source": [
    "a"
   ]
  },
  {
   "cell_type": "code",
   "execution_count": null,
   "id": "b3a22db5-16c0-4cc4-b4f0-cdda658dc9b5",
   "metadata": {},
   "outputs": [],
   "source": [
    "from google.cloud import secretmanager\n",
    "import json"
   ]
  },
  {
   "cell_type": "code",
   "execution_count": null,
   "id": "6cea8115-ea22-4f13-9ef4-fc39233021f2",
   "metadata": {},
   "outputs": [],
   "source": [
    "client = secretmanager.SecretManagerServiceClient()"
   ]
  },
  {
   "cell_type": "code",
   "execution_count": null,
   "id": "65b15468-976d-4a0e-b154-94f529bdcbbc",
   "metadata": {},
   "outputs": [],
   "source": [
    "secret = 'projects/235345915907/secrets/db-cred/versions/1'\n",
    "payload = json.loads(\n",
    "    client.access_secret_version(name = secret).payload.data.decode('utf-8')\n",
    ")"
   ]
  },
  {
   "cell_type": "code",
   "execution_count": null,
   "id": "bf3f7dfe-4aa7-4754-97b5-530c59204af7",
   "metadata": {},
   "outputs": [],
   "source": [
    "payload"
   ]
  },
  {
   "cell_type": "code",
   "execution_count": null,
   "id": "bd67ff94-a57b-4f09-bdd7-5607ada4545c",
   "metadata": {},
   "outputs": [],
   "source": [
    "from typing_extensions import Literal"
   ]
  },
  {
   "cell_type": "code",
   "execution_count": null,
   "id": "5214c7bf-2b43-440a-8c3c-186ab72b703a",
   "metadata": {},
   "outputs": [],
   "source": [
    "a = Literal['a', 'b']"
   ]
  },
  {
   "cell_type": "code",
   "execution_count": null,
   "id": "6cd699b1-4e8e-42c7-9abc-de7547bb7a91",
   "metadata": {},
   "outputs": [],
   "source": [
    "dir(a)"
   ]
  },
  {
   "cell_type": "code",
   "execution_count": null,
   "id": "2c09ce29-6a5e-46e2-a7a8-982d82d2786c",
   "metadata": {},
   "outputs": [],
   "source": [
    "'b' in a.__args__"
   ]
  },
  {
   "cell_type": "code",
   "execution_count": null,
   "id": "5d7011b5-bd08-4fd2-be09-c6eb10655f9a",
   "metadata": {},
   "outputs": [],
   "source": [
    "def infinite_sequence():\n",
    "    num = 0\n",
    "    while True:\n",
    "        yield num\n",
    "        print('plus 1')\n",
    "        num += 1"
   ]
  },
  {
   "cell_type": "code",
   "execution_count": null,
   "id": "4d36f9b6-b1ca-421d-b34d-38dd97b66bc5",
   "metadata": {},
   "outputs": [],
   "source": [
    "for i in infinite_sequence():\n",
    "    print(i)\n",
    "    if i > 10:\n",
    "        break"
   ]
  },
  {
   "cell_type": "code",
   "execution_count": null,
   "id": "d7052b6b-fe66-4a20-a1cd-d036e53518cb",
   "metadata": {},
   "outputs": [],
   "source": []
  }
 ],
 "metadata": {
  "kernelspec": {
   "display_name": "Python 3 (ipykernel)",
   "language": "python",
   "name": "python3"
  },
  "language_info": {
   "codemirror_mode": {
    "name": "ipython",
    "version": 3
   },
   "file_extension": ".py",
   "mimetype": "text/x-python",
   "name": "python",
   "nbconvert_exporter": "python",
   "pygments_lexer": "ipython3",
   "version": "3.7.13"
  }
 },
 "nbformat": 4,
 "nbformat_minor": 5
}
